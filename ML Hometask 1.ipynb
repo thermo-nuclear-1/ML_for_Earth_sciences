{
 "cells": [
  {
   "cell_type": "markdown",
   "metadata": {},
   "source": [
    "# Функция потерь для распределения Лапласа\n",
    "##### Белоусова Ольга, Б03-904а"
   ]
  },
  {
   "cell_type": "markdown",
   "metadata": {},
   "source": [
    "![График](https://sun9-18.userapi.com/impg/vLR-FcefRC86qTEAZC5HRunKLdwpB2wkRJQCtA/NgAmwR8lROE.jpg?size=1000x597&quality=95&sign=bc4674407af18ba2e3c38bead883588f&type=album)"
   ]
  },
  {
   "cell_type": "markdown",
   "metadata": {},
   "source": [
    "Распределение Лапласа:\n",
    "\n",
    "$$f(x) = \\frac{\\alpha}{2} e^{-\\alpha \\mid{x - \\beta}\\mid}$$ "
   ]
  },
  {
   "cell_type": "markdown",
   "metadata": {},
   "source": [
    "Здесь\n",
    "\n",
    "$\\alpha(x_i)$ — отвечает за ширину распределения (чем $\\alpha$ больше, тем распределение уже);\n",
    "\n",
    "$\\beta(x_i)$ — отвечает за сдвиг."
   ]
  },
  {
   "cell_type": "markdown",
   "metadata": {},
   "source": [
    "Значение функции $y_i \\sim \\mathit{Laplace}(\\alpha, \\beta)$, где Laplace — распределение Лапласа."
   ]
  },
  {
   "cell_type": "markdown",
   "metadata": {},
   "source": [
    "### Наша линейная регрессия должна удовлетворять 4 предположениям (правило LINE):\n",
    "\n",
    "**L** (*linear, линейная зависимость*):  $\\beta_i = \\theta^T x_i$;\n",
    "\n",
    "**I** (*i.i.d., independent identically distributed, независимые одинаково распределённые*);\n",
    "\n",
    "**N**: в нашем случае подчиняется распределению Лапласа $y_i \\sim \\mathit{Laplace}(\\alpha, \\beta)$;\n",
    "\n",
    "**E** (*equivariance, равнодисперсное*): $\\alpha_i = \\alpha$"
   ]
  },
  {
   "cell_type": "markdown",
   "metadata": {},
   "source": [
    "### Найдём функцию потерь:\n",
    "\n",
    "Правдоподобие одного элемента выборки:\n",
    "\n",
    "$P(x_i, y_i, \\theta) = \\frac{\\alpha}{2}e^{-\\alpha \\mid{y_i - \\beta_i}\\mid}$"
   ]
  },
  {
   "cell_type": "markdown",
   "metadata": {},
   "source": [
    "Правдоподобие всей выборки:\n",
    "    \n",
    "$L(\\tau, \\theta) = P(\\tau \\mid \\theta) = \\displaystyle\\prod_{i=1}^{N} \\frac{\\alpha}{2}e^{-\\alpha \\mid{y_i - \\beta_i}\\mid}$, где N — количество элементов в выборке. "
   ]
  },
  {
   "cell_type": "markdown",
   "metadata": {},
   "source": [
    "Оптимизируем:\n",
    "    \n",
    "$\\theta^* = \\underset{\\Theta}{\\mathit{argmax}} P(\\tau \\mid \\theta) = \\underset{\\Theta}{\\mathit{argmax}} \\ln{P(\\tau \\mid \\theta)} $"
   ]
  },
  {
   "cell_type": "markdown",
   "metadata": {},
   "source": [
    "$$\\ln{P(\\tau \\mid \\theta)} = $$\n",
    "\n",
    "$$= \\displaystyle\\sum_{i=1}^{N} [\\ln \\frac{\\alpha}{2} + \\ln e^{-\\alpha \\mid{y_i - \\beta_i}\\mid}] = $$\n",
    "$$= \\displaystyle\\sum_{i=1}^{N} [\\ln \\frac{\\alpha}{2} + (-\\alpha \\mid y_i - \\beta_i \\mid ) ] = $$ \n",
    "$$= N \\ln \\frac{\\alpha}{2} - \\alpha \\displaystyle\\sum_{i=1}^{N} \\mid y_i - \\beta_i \\mid $$"
   ]
  },
  {
   "cell_type": "markdown",
   "metadata": {},
   "source": [
    "$$ \\underset{\\Theta}{\\mathit{argmax}} \\ln{P(\\tau \\mid \\theta)} = \\underset{\\Theta}{\\mathit{argmin}} \\displaystyle\\sum_{i=1}^{N} \\mid y_i - \\beta_i \\mid = $$\n",
    "$$= \\underset{\\Theta}{\\mathit{argmin}} \\displaystyle\\sum_{i=1}^{N} \\mid y_i - \\theta^T x_i \\mid  $$"
   ]
  },
  {
   "cell_type": "markdown",
   "metadata": {},
   "source": [
    "Отсюда получаем функцию потерь:\n",
    "\n",
    "$\\implies \\mathcal{L} = \\displaystyle\\sum_{i=1}^{N} \\mid y_i - \\theta^T x_i \\mid $"
   ]
  }
 ],
 "metadata": {
  "kernelspec": {
   "display_name": "Python 3",
   "language": "python",
   "name": "python3"
  },
  "language_info": {
   "codemirror_mode": {
    "name": "ipython",
    "version": 3
   },
   "file_extension": ".py",
   "mimetype": "text/x-python",
   "name": "python",
   "nbconvert_exporter": "python",
   "pygments_lexer": "ipython3",
   "version": "3.8.5"
  }
 },
 "nbformat": 4,
 "nbformat_minor": 4
}
